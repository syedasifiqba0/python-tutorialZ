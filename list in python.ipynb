{
 "cells": [
  {
   "cell_type": "code",
   "execution_count": 1,
   "id": "113bcf1b",
   "metadata": {},
   "outputs": [
    {
     "name": "stdout",
     "output_type": "stream",
     "text": [
      "3\n"
     ]
    }
   ],
   "source": [
    "x= 3\n",
    "print(x)"
   ]
  },
  {
   "cell_type": "code",
   "execution_count": 13,
   "id": "e54b32c9",
   "metadata": {},
   "outputs": [
    {
     "name": "stdout",
     "output_type": "stream",
     "text": [
      "red\n",
      "['apple', 'mango', 'orange']\n",
      "mango\n",
      "orange\n",
      "orange\n",
      "orange\n"
     ]
    }
   ],
   "source": [
    "asad =[\"apple\",\"mango\",\"orange\",\"red\"]\n",
    "item = asad.pop()\n",
    "print(item)\n",
    "print(asad)\n",
    "#print(asad[1]\n",
    "#print(asad[1])\n",
    "#print(asad[2])\n",
    "print(asad[1])\n",
    "print(asad[2])\n",
    "print(asad[2])\n",
    "print(asad[-1])"
   ]
  },
  {
   "cell_type": "code",
   "execution_count": 18,
   "id": "c31f0b0c",
   "metadata": {},
   "outputs": [
    {
     "name": "stdout",
     "output_type": "stream",
     "text": [
      "['asad', 'asd', 'fdsa']\n"
     ]
    }
   ],
   "source": [
    "asad=[\"asd\",\"asad\",\"fdsa\"]\n",
    "item = asad.sort()\n",
    "print(asad)"
   ]
  },
  {
   "cell_type": "code",
   "execution_count": 20,
   "id": "8011e4bf",
   "metadata": {},
   "outputs": [
    {
     "name": "stdout",
     "output_type": "stream",
     "text": [
      "None\n"
     ]
    }
   ],
   "source": [
    "asd=[1,2,3,4,9,6,7,]\n",
    "item = asd.sort()\n",
    "print(item)"
   ]
  },
  {
   "cell_type": "code",
   "execution_count": 22,
   "id": "5487bd2d",
   "metadata": {},
   "outputs": [
    {
     "name": "stdout",
     "output_type": "stream",
     "text": [
      "[2, 4, 5, 6, 7]\n"
     ]
    }
   ],
   "source": [
    "nmber=[2,5,4,6,7]\n",
    "item = nmber.sort()\n",
    "print(nmber)"
   ]
  },
  {
   "cell_type": "code",
   "execution_count": 25,
   "id": "f9f1a656",
   "metadata": {},
   "outputs": [
    {
     "name": "stdout",
     "output_type": "stream",
     "text": [
      "[654, 789, 32, 45]\n"
     ]
    }
   ],
   "source": [
    "nmber = [45,32,789,654]\n",
    "item = nmber.reverse()\n",
    "print(nmber)"
   ]
  },
  {
   "cell_type": "code",
   "execution_count": 26,
   "id": "11beb1ea",
   "metadata": {},
   "outputs": [
    {
     "name": "stdout",
     "output_type": "stream",
     "text": [
      "[5432, 43986, 98765, 876543, 876543, 5432987, 6549876, 543219876]\n"
     ]
    }
   ],
   "source": [
    "asad=[876543,876543,98765,43986,5432987,6549876,543219876,5432]\n",
    "iem=asad.sort()\n",
    "print(asad)"
   ]
  },
  {
   "cell_type": "code",
   "execution_count": null,
   "id": "029f5124",
   "metadata": {},
   "outputs": [],
   "source": []
  }
 ],
 "metadata": {
  "kernelspec": {
   "display_name": "Python 3 (ipykernel)",
   "language": "python",
   "name": "python3"
  },
  "language_info": {
   "codemirror_mode": {
    "name": "ipython",
    "version": 3
   },
   "file_extension": ".py",
   "mimetype": "text/x-python",
   "name": "python",
   "nbconvert_exporter": "python",
   "pygments_lexer": "ipython3",
   "version": "3.9.12"
  }
 },
 "nbformat": 4,
 "nbformat_minor": 5
}
